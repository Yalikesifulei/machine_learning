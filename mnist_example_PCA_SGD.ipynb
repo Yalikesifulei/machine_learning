{
  "nbformat": 4,
  "nbformat_minor": 0,
  "metadata": {
    "colab": {
      "name": "mnist_PCA.ipynb",
      "provenance": [],
      "collapsed_sections": []
    },
    "kernelspec": {
      "name": "python3",
      "display_name": "Python 3"
    }
  },
  "cells": [
    {
      "cell_type": "code",
      "metadata": {
        "id": "fKI9uJ2uO4II"
      },
      "source": [
        "%matplotlib inline\n",
        "import numpy as np\n",
        "import matplotlib.pyplot as plt\n",
        "import NeuralNetwork\n",
        "import DimReduction"
      ],
      "execution_count": 1,
      "outputs": []
    },
    {
      "cell_type": "code",
      "metadata": {
        "id": "-a6Gv6zWQCbY"
      },
      "source": [
        "image_size = 28\n",
        "no_of_different_labels = 10\n",
        "image_pixels = image_size * image_size\n",
        "train_data_orig = np.loadtxt(\"/content/sample_data/mnist_train_small.csv\", delimiter=\",\")\n",
        "test_data_orig = np.loadtxt(\"/content/sample_data/mnist_test.csv\", delimiter=\",\")"
      ],
      "execution_count": 2,
      "outputs": []
    },
    {
      "cell_type": "code",
      "metadata": {
        "id": "UerAi_CN0jKr"
      },
      "source": [
        "train_size, test_size = train_data_orig.shape[0], test_data_orig.shape[0]\n",
        "X_all = np.vstack((train_data_orig[:, 1:], test_data_orig[:, 1:]))\n",
        "y_train_classes, y_test_classes = train_data_orig[:, 0], test_data_orig[:, 0]\n",
        "X_all, scales = DimReduction.Normalize(X_all)\n",
        "X_pca, U = DimReduction.PCA(X_all)\n",
        "train_data, test_data = np.vsplit(X_pca, [train_size])"
      ],
      "execution_count": 3,
      "outputs": []
    },
    {
      "cell_type": "code",
      "metadata": {
        "id": "1G8XVIC23eGa"
      },
      "source": [
        "y_train, y_test = np.zeros((train_size, 10)), np.zeros((test_size, 10))\n",
        "for k in range(train_size):\n",
        "  y_train[k, int(y_train_classes[k])] = 1\n",
        "for k in range(test_size):\n",
        "  y_test[k, int(y_test_classes[k])] = 1"
      ],
      "execution_count": 4,
      "outputs": []
    },
    {
      "cell_type": "code",
      "metadata": {
        "id": "nePsEmWVQS29",
        "outputId": "9560abed-00db-4dc0-c160-d7130d02c346",
        "colab": {
          "base_uri": "https://localhost:8080/",
          "height": 34
        }
      },
      "source": [
        "train_size = 20000\n",
        "test_size = 10000\n",
        "X_train = train_data[:train_size, :]\n",
        "y_train = y_train[:train_size, :]\n",
        "X_test = test_data[:test_size, :]\n",
        "y_test = y_test[:test_size, :]\n",
        "\n",
        "print(np.shape(X_train), np.shape(y_train), np.shape(X_test), np.shape(y_test))"
      ],
      "execution_count": 5,
      "outputs": [
        {
          "output_type": "stream",
          "text": [
            "(20000, 523) (20000, 10) (10000, 523) (10000, 10)\n"
          ],
          "name": "stdout"
        }
      ]
    },
    {
      "cell_type": "code",
      "metadata": {
        "id": "wMJ09cH8Rgik"
      },
      "source": [
        "new_pixels = np.shape(X_train)[1]"
      ],
      "execution_count": 6,
      "outputs": []
    },
    {
      "cell_type": "code",
      "metadata": {
        "id": "ndJjZYw5RuSS",
        "outputId": "78d5e29e-86f9-417b-a10d-1e3104ab147d",
        "colab": {
          "base_uri": "https://localhost:8080/",
          "height": 34
        }
      },
      "source": [
        "net = NeuralNetwork.Network((new_pixels, 100, no_of_different_labels))\n",
        "print(net.Layers)"
      ],
      "execution_count": 7,
      "outputs": [
        {
          "output_type": "stream",
          "text": [
            "(523, 100, 10)\n"
          ],
          "name": "stdout"
        }
      ]
    },
    {
      "cell_type": "code",
      "metadata": {
        "id": "ys3gVej_Rzsf"
      },
      "source": [
        "parameters = {'LearningRate' : 0.05, 'BatchSize' : 200, 'Tolerance' : 1e-4, 'MaxIter' : 5000, 'PrintStep' : 100}"
      ],
      "execution_count": 8,
      "outputs": []
    },
    {
      "cell_type": "code",
      "metadata": {
        "id": "ZmI93ruCR2CE",
        "outputId": "15d8b602-f4dc-4105-c88b-cd05c99db175",
        "colab": {
          "base_uri": "https://localhost:8080/",
          "height": 204
        }
      },
      "source": [
        "J = net.SGD(X_train, y_train, **parameters)"
      ],
      "execution_count": 9,
      "outputs": [
        {
          "output_type": "stream",
          "text": [
            "iteration 0 \t J = 5.724405602218702\n",
            "iteration 100 \t J = 1.806095388597894\n",
            "iteration 200 \t J = 1.3598613527861445\n",
            "iteration 300 \t J = 1.135147225029038\n",
            "iteration 400 \t J = 0.9982144571744339\n",
            "iteration 500 \t J = 0.9044825623155935\n",
            "iteration 600 \t J = 0.835788164831301\n",
            "iteration 700 \t J = 0.7841709452196043\n",
            "iteration 800 \t J = 0.743144067025389\n",
            "iteration 900 \t J = 0.7094600311771784\n",
            "--- SGD finished ---\n"
          ],
          "name": "stdout"
        }
      ]
    },
    {
      "cell_type": "code",
      "metadata": {
        "id": "GKOyoswdfZ1H",
        "outputId": "1ac0bc8e-4b8e-4f6b-8e4c-d28808922d96",
        "colab": {
          "base_uri": "https://localhost:8080/",
          "height": 34
        }
      },
      "source": [
        "pred_train = net.Predict(X_train)\n",
        "correct_train = sum(np.argmax(pred_train, axis = 1) == np.argmax(y_train, axis = 1))\n",
        "accuracy_train = correct_train/train_size\n",
        "print(f\"accuracy on train = {accuracy_train} ({correct_train}/{train_size})\")"
      ],
      "execution_count": 10,
      "outputs": [
        {
          "output_type": "stream",
          "text": [
            "accuracy on train = 0.90615 (18123/20000)\n"
          ],
          "name": "stdout"
        }
      ]
    },
    {
      "cell_type": "code",
      "metadata": {
        "id": "ke7JJCpyhQ09",
        "outputId": "13bb14ec-6ef0-4625-e66f-237920fb882f",
        "colab": {
          "base_uri": "https://localhost:8080/",
          "height": 34
        }
      },
      "source": [
        "pred_test = net.Predict(X_test)\n",
        "correct_test = sum(np.argmax(pred_test, axis = 1) == np.argmax(y_test, axis = 1))\n",
        "accuracy_test = correct_test/test_size\n",
        "print(f\"accuracy on test = {accuracy_test} ({correct_test}/{test_size})\")"
      ],
      "execution_count": 11,
      "outputs": [
        {
          "output_type": "stream",
          "text": [
            "accuracy on test = 0.9024 (9024/10000)\n"
          ],
          "name": "stdout"
        }
      ]
    },
    {
      "cell_type": "code",
      "metadata": {
        "id": "biBJuqX8lFIC",
        "outputId": "79937c37-7bfc-47bb-8f4c-908e23893e9a",
        "colab": {
          "base_uri": "https://localhost:8080/",
          "height": 310
        }
      },
      "source": [
        "plt.plot(J)\n",
        "title_obj = plt.title(f\"Cost function history\\n Learning rate = {parameters['LearningRate']}, batch size = {parameters['BatchSize']}\")\n",
        "xlabel_obj = plt.xlabel('№ of iteration')\n",
        "plt.show()"
      ],
      "execution_count": 12,
      "outputs": [
        {
          "output_type": "display_data",
          "data": {
            "image/png": "[encoded data removed]",
            "text/plain": [
              "<Figure size 432x288 with 1 Axes>"
            ]
          },
          "metadata": {
            "tags": [],
            "needs_background": "light"
          }
        }
      ]
    },
    {
      "cell_type": "code",
      "metadata": {
        "id": "mFrKtIC7DY0K",
        "outputId": "9b9c522b-5038-47fd-ffd5-87783ace1dd6",
        "colab": {
          "base_uri": "https://localhost:8080/",
          "height": 482
        }
      },
      "source": [
        "np.seterr(over='ignore')\n",
        "DemoInd = np.random.choice(test_data_orig.shape[0], 9, replace = False)\n",
        "DemoSet = test_data_orig[DemoInd, 1:]\n",
        "DemoSet_pca = DemoSet @ U\n",
        "DemoPred = np.argmax(net.Predict(DemoSet_pca), axis = 1)\n",
        "DemoTrue = np.argmax(y_test[DemoInd], axis = 1)\n",
        "fig = plt.figure(figsize=(8, 8))\n",
        "columns = 3\n",
        "rows = 3\n",
        "for i in range(1, columns*rows+1):\n",
        "    img = DemoSet[i-1, :].reshape(image_size, image_size) \n",
        "    fig.add_subplot(rows, columns, i)\n",
        "    plt.imshow(img, cmap = 'Greys')\n",
        "    plt.axis('off')\n",
        "    plt.title(f\"True: {DemoTrue[i-1]} | Predicted: {DemoPred[i-1]}\")\n",
        "plt.show()"
      ],
      "execution_count": 13,
      "outputs": [
        {
          "output_type": "display_data",
          "data": {
            "image/png": "[encoded data removed]",
            "text/plain": [
              "<Figure size 576x576 with 9 Axes>"
            ]
          },
          "metadata": {
            "tags": [],
            "needs_background": "light"
          }
        }
      ]
    }
  ]
}