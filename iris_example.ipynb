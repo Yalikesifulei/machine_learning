{
 "metadata": {
  "language_info": {
   "codemirror_mode": {
    "name": "ipython",
    "version": 3
   },
   "file_extension": ".py",
   "mimetype": "text/x-python",
   "name": "python",
   "nbconvert_exporter": "python",
   "pygments_lexer": "ipython3",
   "version": "3.8.3-final"
  },
  "orig_nbformat": 2,
  "kernelspec": {
   "name": "Python 3.8.3 64-bit",
   "display_name": "Python 3.8.3 64-bit",
   "metadata": {
    "interpreter": {
     "hash": "2db524e06e9f5f4ffedc911c917cb75e12dbc923643829bf417064a77eb14d37"
    }
   }
  }
 },
 "nbformat": 4,
 "nbformat_minor": 2,
 "cells": [
  {
   "cell_type": "markdown",
   "metadata": {},
   "source": [
    "# Example of usage with [Iris dataset](https://archive.ics.uci.edu/ml/machine-learning-databases/iris/iris.data)"
   ]
  },
  {
   "cell_type": "code",
   "execution_count": 1,
   "metadata": {},
   "outputs": [],
   "source": [
    "%matplotlib inline\n",
    "import numpy as np\n",
    "import matplotlib.pyplot as plt\n",
    "import NeuralNetwork"
   ]
  },
  {
   "cell_type": "markdown",
   "metadata": {},
   "source": [
    "Iris datasets has 4 inputs and 3 classes corresponding 3 Iris species."
   ]
  },
  {
   "cell_type": "code",
   "execution_count": 2,
   "metadata": {},
   "outputs": [],
   "source": [
    "X = np.genfromtxt('iris.data', delimiter = ',', usecols = [0,1,2,3])\n",
    "Y_labels = np.genfromtxt('iris.data', delimiter = ',', usecols = [4], dtype = str) \n",
    "\n",
    "X_size, number_of_inputs = X.shape\n",
    "number_of_outputs = len(set(Y_labels))\n",
    "n = X.shape[0]\n",
    "labels = dict(zip(set(Y_labels), np.arange(len(set(Y_labels)))))\n",
    "\n",
    "Y = np.zeros((X_size, number_of_outputs))\n",
    "for i in range(X_size):\n",
    "    Y[i, labels[Y_labels[i]]] = 1"
   ]
  },
  {
   "cell_type": "code",
   "execution_count": 3,
   "metadata": {
    "tags": []
   },
   "outputs": [
    {
     "output_type": "execute_result",
     "data": {
      "text/plain": "array([[5.1, 3.5, 1.4, 0.2],\n       [4.9, 3. , 1.4, 0.2],\n       [4.7, 3.2, 1.3, 0.2],\n       [4.6, 3.1, 1.5, 0.2],\n       [5. , 3.6, 1.4, 0.2],\n       [5.4, 3.9, 1.7, 0.4],\n       [4.6, 3.4, 1.4, 0.3],\n       [5. , 3.4, 1.5, 0.2],\n       [4.4, 2.9, 1.4, 0.2],\n       [4.9, 3.1, 1.5, 0.1]])"
     },
     "metadata": {},
     "execution_count": 3
    }
   ],
   "source": [
    "X[:10]"
   ]
  },
  {
   "cell_type": "code",
   "execution_count": 4,
   "metadata": {},
   "outputs": [
    {
     "output_type": "execute_result",
     "data": {
      "text/plain": "array([[0., 0., 1.],\n       [0., 0., 1.],\n       [0., 0., 1.],\n       [0., 0., 1.],\n       [0., 0., 1.],\n       [0., 0., 1.],\n       [0., 0., 1.],\n       [0., 0., 1.],\n       [0., 0., 1.],\n       [0., 0., 1.]])"
     },
     "metadata": {},
     "execution_count": 4
    }
   ],
   "source": [
    "Y[:10]"
   ]
  },
  {
   "cell_type": "markdown",
   "metadata": {},
   "source": [
    "First 10 examples. 1 in 3rd position in y corresponds to 3rd class, same with 1st and 2nd."
   ]
  },
  {
   "cell_type": "code",
   "execution_count": 5,
   "metadata": {},
   "outputs": [],
   "source": [
    "n = NeuralNetwork.Network((number_of_inputs, 5, number_of_outputs))"
   ]
  },
  {
   "cell_type": "markdown",
   "metadata": {},
   "source": [
    "Initialize neural network with 4 neurons in input layer, 5 in hidden layer and 3 in output layer. Also, there one hidden neuron in input and hidden layers. All weights are initialized randomly."
   ]
  },
  {
   "cell_type": "code",
   "execution_count": 6,
   "metadata": {},
   "outputs": [],
   "source": [
    "X_size = X.shape[0]\n",
    "train_size = 50\n",
    "train_ind = np.random.choice(X_size, train_size, replace = False)\n",
    "test_ind = np.setdiff1d(np.arange(X_size), train_ind)\n",
    "X_train, Y_train = X[train_ind], Y[train_ind]\n",
    "X_test, Y_test = X[test_ind], Y[test_ind]"
   ]
  },
  {
   "cell_type": "markdown",
   "metadata": {},
   "source": [
    "Randomly select 50 examples for training dataset and 100 for testing."
   ]
  },
  {
   "cell_type": "code",
   "execution_count": 7,
   "metadata": {},
   "outputs": [],
   "source": [
    "alpha = 0.1\n",
    "lmb = 0"
   ]
  },
  {
   "cell_type": "markdown",
   "metadata": {},
   "source": [
    "These are learning parameters. alpha is learning rate and lmb is regularization constant. In this example regularization isn't used."
   ]
  },
  {
   "cell_type": "code",
   "execution_count": 8,
   "metadata": {
    "tags": [
     "outputPrepend"
    ]
   },
   "outputs": [
    {
     "output_type": "stream",
     "name": "stdout",
     "text": "...\niteration 2080 \t J = 0.22790707179380876\niteration 2081 \t J = 0.2278062897002138\niteration 2082 \t J = 0.22770562499361735\niteration 2083 \t J = 0.22760507746664974\niteration 2084 \t J = 0.22750464691238165\niteration 2085 \t J = 0.2274043331243327\niteration 2086 \t J = 0.22730413589646148\niteration 2087 \t J = 0.22720405502317156\niteration 2088 \t J = 0.22710409029930767\n--- GradDesc finished ---\n"
    }
   ],
   "source": [
    "J = n.GradDesc(X_train, Y_train, alpha = alpha, lmb = lmb, eps = 1e-4, MaxIter = 5000)"
   ]
  },
  {
   "cell_type": "markdown",
   "metadata": {},
   "source": [
    "Perform gradient descent to fit parameters. eps = 1e-4 means that algorithm stops when absolute difference in cost function values between two iterations is less than 0.0001."
   ]
  },
  {
   "cell_type": "code",
   "execution_count": 9,
   "metadata": {
    "tags": []
   },
   "outputs": [
    {
     "output_type": "stream",
     "name": "stdout",
     "text": "\naccuracy on train = 0.98 (49/50)\naccuracy on test = 0.95 (95/100)\n"
    }
   ],
   "source": [
    "accuracy_train = 0\n",
    "for k in range(len(Y_train)):\n",
    "    accuracy_train += np.argmax(n.h(X_train[k])) == np.argmax(Y_train[k])\n",
    "print(f\"\\naccuracy on train = {accuracy_train/len(Y_train)} ({accuracy_train}/{len(Y_train)})\")\n",
    "\n",
    "accuracy_test = 0\n",
    "for k in range(len(Y_test)):\n",
    "    #print(n.h(X_test[k]), np.argmax(n.h(X_test[k])) == np.argmax(Y_test[k]))\n",
    "    accuracy_test += np.argmax(n.h(X_test[k])) == np.argmax(Y_test[k])\n",
    "print(f\"accuracy on test = {accuracy_test/len(Y_test)} ({accuracy_test}/{len(Y_test)})\")"
   ]
  },
  {
   "cell_type": "markdown",
   "metadata": {},
   "source": [
    "Check accuracy on training and testing datasets."
   ]
  },
  {
   "cell_type": "code",
   "execution_count": 10,
   "metadata": {},
   "outputs": [
    {
     "output_type": "display_data",
     "data": {
      "text/plain": "<Figure size 432x288 with 1 Axes>",
      "image/svg+xml": "<?xml version=\"1.0\" encoding=\"utf-8\" standalone=\"no\"?>\r\n<!DOCTYPE svg PUBLIC \"-//W3C//DTD SVG 1.1//EN\"\r\n  \"http://www.w3.org/Graphics/SVG/1.1/DTD/svg11.dtd\">\r\n<!-- Created with matplotlib (https://matplotlib.org/) -->\r\n<svg height=\"277.408125pt\" version=\"1.1\" viewBox=\"0 0 384.539062 277.408125\" width=\"384.539062pt\" xmlns=\"http://www.w3.org/2000/svg\" xmlns:xlink=\"http://www.w3.org/1999/xlink\">\r\n <defs>\r\n  <style type=\"text/css\">\r\n*{stroke-linecap:butt;stroke-linejoin:round;}\r\n  </style>\r\n </defs>\r\n <g id=\"figure_1\">\r\n  <g id=\"patch_1\">\r\n   <path d=\"M 0 277.408125 \r\nL 384.539062 277.408125 \r\nL 384.539062 0 \r\nL 0 0 \r\nz\r\n\" style=\"fill:none;\"/>\r\n  </g>\r\n  <g id=\"axes_1\">\r\n   <g id=\"patch_2\">\r\n    <path d=\"M 42.539063 239.851875 \r\nL 377.339063 239.851875 \r\nL 377.339063 22.411875 \r\nL 42.539063 22.411875 \r\nz\r\n\" style=\"fill:#ffffff;\"/>\r\n   </g>\r\n   <g id=\"matplotlib.axis_1\">\r\n    <g id=\"xtick_1\">\r\n     <g id=\"line2d_1\">\r\n      <defs>\r\n       <path d=\"M 0 0 \r\nL 0 3.5 \r\n\" id=\"mca98475b51\" style=\"stroke:#000000;stroke-width:0.8;\"/>\r\n      </defs>\r\n      <g>\r\n       <use style=\"stroke:#000000;stroke-width:0.8;\" x=\"57.757244\" xlink:href=\"#mca98475b51\" y=\"239.851875\"/>\r\n      </g>\r\n     </g>\r\n     <g id=\"text_1\">\r\n      <!-- 0 -->\r\n      <defs>\r\n       <path d=\"M 31.78125 66.40625 \r\nQ 24.171875 66.40625 20.328125 58.90625 \r\nQ 16.5 51.421875 16.5 36.375 \r\nQ 16.5 21.390625 20.328125 13.890625 \r\nQ 24.171875 6.390625 31.78125 6.390625 \r\nQ 39.453125 6.390625 43.28125 13.890625 \r\nQ 47.125 21.390625 47.125 36.375 \r\nQ 47.125 51.421875 43.28125 58.90625 \r\nQ 39.453125 66.40625 31.78125 66.40625 \r\nz\r\nM 31.78125 74.21875 \r\nQ 44.046875 74.21875 50.515625 64.515625 \r\nQ 56.984375 54.828125 56.984375 36.375 \r\nQ 56.984375 17.96875 50.515625 8.265625 \r\nQ 44.046875 -1.421875 31.78125 -1.421875 \r\nQ 19.53125 -1.421875 13.0625 8.265625 \r\nQ 6.59375 17.96875 6.59375 36.375 \r\nQ 6.59375 54.828125 13.0625 64.515625 \r\nQ 19.53125 74.21875 31.78125 74.21875 \r\nz\r\n\" id=\"DejaVuSans-48\"/>\r\n      </defs>\r\n      <g transform=\"translate(54.575994 254.450312)scale(0.1 -0.1)\">\r\n       <use xlink:href=\"#DejaVuSans-48\"/>\r\n      </g>\r\n     </g>\r\n    </g>\r\n    <g id=\"xtick_2\">\r\n     <g id=\"line2d_2\">\r\n      <g>\r\n       <use style=\"stroke:#000000;stroke-width:0.8;\" x=\"130.67618\" xlink:href=\"#mca98475b51\" y=\"239.851875\"/>\r\n      </g>\r\n     </g>\r\n     <g id=\"text_2\">\r\n      <!-- 500 -->\r\n      <defs>\r\n       <path d=\"M 10.796875 72.90625 \r\nL 49.515625 72.90625 \r\nL 49.515625 64.59375 \r\nL 19.828125 64.59375 \r\nL 19.828125 46.734375 \r\nQ 21.96875 47.46875 24.109375 47.828125 \r\nQ 26.265625 48.1875 28.421875 48.1875 \r\nQ 40.625 48.1875 47.75 41.5 \r\nQ 54.890625 34.8125 54.890625 23.390625 \r\nQ 54.890625 11.625 47.5625 5.09375 \r\nQ 40.234375 -1.421875 26.90625 -1.421875 \r\nQ 22.3125 -1.421875 17.546875 -0.640625 \r\nQ 12.796875 0.140625 7.71875 1.703125 \r\nL 7.71875 11.625 \r\nQ 12.109375 9.234375 16.796875 8.0625 \r\nQ 21.484375 6.890625 26.703125 6.890625 \r\nQ 35.15625 6.890625 40.078125 11.328125 \r\nQ 45.015625 15.765625 45.015625 23.390625 \r\nQ 45.015625 31 40.078125 35.4375 \r\nQ 35.15625 39.890625 26.703125 39.890625 \r\nQ 22.75 39.890625 18.8125 39.015625 \r\nQ 14.890625 38.140625 10.796875 36.28125 \r\nz\r\n\" id=\"DejaVuSans-53\"/>\r\n      </defs>\r\n      <g transform=\"translate(121.13243 254.450312)scale(0.1 -0.1)\">\r\n       <use xlink:href=\"#DejaVuSans-53\"/>\r\n       <use x=\"63.623047\" xlink:href=\"#DejaVuSans-48\"/>\r\n       <use x=\"127.246094\" xlink:href=\"#DejaVuSans-48\"/>\r\n      </g>\r\n     </g>\r\n    </g>\r\n    <g id=\"xtick_3\">\r\n     <g id=\"line2d_3\">\r\n      <g>\r\n       <use style=\"stroke:#000000;stroke-width:0.8;\" x=\"203.595115\" xlink:href=\"#mca98475b51\" y=\"239.851875\"/>\r\n      </g>\r\n     </g>\r\n     <g id=\"text_3\">\r\n      <!-- 1000 -->\r\n      <defs>\r\n       <path d=\"M 12.40625 8.296875 \r\nL 28.515625 8.296875 \r\nL 28.515625 63.921875 \r\nL 10.984375 60.40625 \r\nL 10.984375 69.390625 \r\nL 28.421875 72.90625 \r\nL 38.28125 72.90625 \r\nL 38.28125 8.296875 \r\nL 54.390625 8.296875 \r\nL 54.390625 0 \r\nL 12.40625 0 \r\nz\r\n\" id=\"DejaVuSans-49\"/>\r\n      </defs>\r\n      <g transform=\"translate(190.870115 254.450312)scale(0.1 -0.1)\">\r\n       <use xlink:href=\"#DejaVuSans-49\"/>\r\n       <use x=\"63.623047\" xlink:href=\"#DejaVuSans-48\"/>\r\n       <use x=\"127.246094\" xlink:href=\"#DejaVuSans-48\"/>\r\n       <use x=\"190.869141\" xlink:href=\"#DejaVuSans-48\"/>\r\n      </g>\r\n     </g>\r\n    </g>\r\n    <g id=\"xtick_4\">\r\n     <g id=\"line2d_4\">\r\n      <g>\r\n       <use style=\"stroke:#000000;stroke-width:0.8;\" x=\"276.514051\" xlink:href=\"#mca98475b51\" y=\"239.851875\"/>\r\n      </g>\r\n     </g>\r\n     <g id=\"text_4\">\r\n      <!-- 1500 -->\r\n      <g transform=\"translate(263.789051 254.450312)scale(0.1 -0.1)\">\r\n       <use xlink:href=\"#DejaVuSans-49\"/>\r\n       <use x=\"63.623047\" xlink:href=\"#DejaVuSans-53\"/>\r\n       <use x=\"127.246094\" xlink:href=\"#DejaVuSans-48\"/>\r\n       <use x=\"190.869141\" xlink:href=\"#DejaVuSans-48\"/>\r\n      </g>\r\n     </g>\r\n    </g>\r\n    <g id=\"xtick_5\">\r\n     <g id=\"line2d_5\">\r\n      <g>\r\n       <use style=\"stroke:#000000;stroke-width:0.8;\" x=\"349.432986\" xlink:href=\"#mca98475b51\" y=\"239.851875\"/>\r\n      </g>\r\n     </g>\r\n     <g id=\"text_5\">\r\n      <!-- 2000 -->\r\n      <defs>\r\n       <path d=\"M 19.1875 8.296875 \r\nL 53.609375 8.296875 \r\nL 53.609375 0 \r\nL 7.328125 0 \r\nL 7.328125 8.296875 \r\nQ 12.9375 14.109375 22.625 23.890625 \r\nQ 32.328125 33.6875 34.8125 36.53125 \r\nQ 39.546875 41.84375 41.421875 45.53125 \r\nQ 43.3125 49.21875 43.3125 52.78125 \r\nQ 43.3125 58.59375 39.234375 62.25 \r\nQ 35.15625 65.921875 28.609375 65.921875 \r\nQ 23.96875 65.921875 18.8125 64.3125 \r\nQ 13.671875 62.703125 7.8125 59.421875 \r\nL 7.8125 69.390625 \r\nQ 13.765625 71.78125 18.9375 73 \r\nQ 24.125 74.21875 28.421875 74.21875 \r\nQ 39.75 74.21875 46.484375 68.546875 \r\nQ 53.21875 62.890625 53.21875 53.421875 \r\nQ 53.21875 48.921875 51.53125 44.890625 \r\nQ 49.859375 40.875 45.40625 35.40625 \r\nQ 44.1875 33.984375 37.640625 27.21875 \r\nQ 31.109375 20.453125 19.1875 8.296875 \r\nz\r\n\" id=\"DejaVuSans-50\"/>\r\n      </defs>\r\n      <g transform=\"translate(336.707986 254.450312)scale(0.1 -0.1)\">\r\n       <use xlink:href=\"#DejaVuSans-50\"/>\r\n       <use x=\"63.623047\" xlink:href=\"#DejaVuSans-48\"/>\r\n       <use x=\"127.246094\" xlink:href=\"#DejaVuSans-48\"/>\r\n       <use x=\"190.869141\" xlink:href=\"#DejaVuSans-48\"/>\r\n      </g>\r\n     </g>\r\n    </g>\r\n    <g id=\"text_6\">\r\n     <!-- № of iteration -->\r\n     <defs>\r\n      <path d=\"M 2.640625 0 \r\nL 2.640625 8.296875 \r\nQ 9.8125 8.296875 9.8125 13.53125 \r\nL 9.8125 72.90625 \r\nL 23.09375 72.90625 \r\nL 55.421875 11.921875 \r\nL 55.421875 59.375 \r\nQ 55.421875 65.625 59.25 69.265625 \r\nQ 63.09375 72.90625 72.171875 72.90625 \r\nL 72.171875 64.59375 \r\nQ 64.984375 64.59375 64.984375 59.375 \r\nL 64.984375 0 \r\nL 51.703125 0 \r\nL 19.390625 60.984375 \r\nL 19.390625 13.53125 \r\nQ 19.390625 7.28125 15.546875 3.640625 \r\nQ 11.71875 0 2.640625 0 \r\nz\r\nM 72.796875 30.375 \r\nQ 72.796875 37.109375 76.3125 41.765625 \r\nQ 79.828125 46.4375 84.859375 46.4375 \r\nQ 89.890625 46.4375 93.40625 41.765625 \r\nQ 96.921875 37.109375 96.921875 30.375 \r\nQ 96.921875 23.640625 93.40625 18.96875 \r\nQ 89.890625 14.3125 84.859375 14.3125 \r\nQ 79.828125 14.3125 76.3125 18.96875 \r\nQ 72.796875 23.640625 72.796875 30.375 \r\nz\r\nM 79.640625 30.375 \r\nQ 79.640625 26.5625 81.03125 24.046875 \r\nQ 82.421875 21.53125 84.859375 21.53125 \r\nQ 87.3125 21.53125 88.703125 24.046875 \r\nQ 90.09375 26.5625 90.09375 30.375 \r\nQ 90.09375 34.1875 88.703125 36.6875 \r\nQ 87.3125 39.203125 84.859375 39.203125 \r\nQ 82.421875 39.203125 81.03125 36.6875 \r\nQ 79.640625 34.1875 79.640625 30.375 \r\nz\r\nM 72.796875 0 \r\nL 72.796875 6 \r\nL 96.921875 6 \r\nL 96.921875 0 \r\nz\r\n\" id=\"DejaVuSans-8470\"/>\r\n      <path id=\"DejaVuSans-32\"/>\r\n      <path d=\"M 30.609375 48.390625 \r\nQ 23.390625 48.390625 19.1875 42.75 \r\nQ 14.984375 37.109375 14.984375 27.296875 \r\nQ 14.984375 17.484375 19.15625 11.84375 \r\nQ 23.34375 6.203125 30.609375 6.203125 \r\nQ 37.796875 6.203125 41.984375 11.859375 \r\nQ 46.1875 17.53125 46.1875 27.296875 \r\nQ 46.1875 37.015625 41.984375 42.703125 \r\nQ 37.796875 48.390625 30.609375 48.390625 \r\nz\r\nM 30.609375 56 \r\nQ 42.328125 56 49.015625 48.375 \r\nQ 55.71875 40.765625 55.71875 27.296875 \r\nQ 55.71875 13.875 49.015625 6.21875 \r\nQ 42.328125 -1.421875 30.609375 -1.421875 \r\nQ 18.84375 -1.421875 12.171875 6.21875 \r\nQ 5.515625 13.875 5.515625 27.296875 \r\nQ 5.515625 40.765625 12.171875 48.375 \r\nQ 18.84375 56 30.609375 56 \r\nz\r\n\" id=\"DejaVuSans-111\"/>\r\n      <path d=\"M 37.109375 75.984375 \r\nL 37.109375 68.5 \r\nL 28.515625 68.5 \r\nQ 23.6875 68.5 21.796875 66.546875 \r\nQ 19.921875 64.59375 19.921875 59.515625 \r\nL 19.921875 54.6875 \r\nL 34.71875 54.6875 \r\nL 34.71875 47.703125 \r\nL 19.921875 47.703125 \r\nL 19.921875 0 \r\nL 10.890625 0 \r\nL 10.890625 47.703125 \r\nL 2.296875 47.703125 \r\nL 2.296875 54.6875 \r\nL 10.890625 54.6875 \r\nL 10.890625 58.5 \r\nQ 10.890625 67.625 15.140625 71.796875 \r\nQ 19.390625 75.984375 28.609375 75.984375 \r\nz\r\n\" id=\"DejaVuSans-102\"/>\r\n      <path d=\"M 9.421875 54.6875 \r\nL 18.40625 54.6875 \r\nL 18.40625 0 \r\nL 9.421875 0 \r\nz\r\nM 9.421875 75.984375 \r\nL 18.40625 75.984375 \r\nL 18.40625 64.59375 \r\nL 9.421875 64.59375 \r\nz\r\n\" id=\"DejaVuSans-105\"/>\r\n      <path d=\"M 18.3125 70.21875 \r\nL 18.3125 54.6875 \r\nL 36.8125 54.6875 \r\nL 36.8125 47.703125 \r\nL 18.3125 47.703125 \r\nL 18.3125 18.015625 \r\nQ 18.3125 11.328125 20.140625 9.421875 \r\nQ 21.96875 7.515625 27.59375 7.515625 \r\nL 36.8125 7.515625 \r\nL 36.8125 0 \r\nL 27.59375 0 \r\nQ 17.1875 0 13.234375 3.875 \r\nQ 9.28125 7.765625 9.28125 18.015625 \r\nL 9.28125 47.703125 \r\nL 2.6875 47.703125 \r\nL 2.6875 54.6875 \r\nL 9.28125 54.6875 \r\nL 9.28125 70.21875 \r\nz\r\n\" id=\"DejaVuSans-116\"/>\r\n      <path d=\"M 56.203125 29.59375 \r\nL 56.203125 25.203125 \r\nL 14.890625 25.203125 \r\nQ 15.484375 15.921875 20.484375 11.0625 \r\nQ 25.484375 6.203125 34.421875 6.203125 \r\nQ 39.59375 6.203125 44.453125 7.46875 \r\nQ 49.3125 8.734375 54.109375 11.28125 \r\nL 54.109375 2.78125 \r\nQ 49.265625 0.734375 44.1875 -0.34375 \r\nQ 39.109375 -1.421875 33.890625 -1.421875 \r\nQ 20.796875 -1.421875 13.15625 6.1875 \r\nQ 5.515625 13.8125 5.515625 26.8125 \r\nQ 5.515625 40.234375 12.765625 48.109375 \r\nQ 20.015625 56 32.328125 56 \r\nQ 43.359375 56 49.78125 48.890625 \r\nQ 56.203125 41.796875 56.203125 29.59375 \r\nz\r\nM 47.21875 32.234375 \r\nQ 47.125 39.59375 43.09375 43.984375 \r\nQ 39.0625 48.390625 32.421875 48.390625 \r\nQ 24.90625 48.390625 20.390625 44.140625 \r\nQ 15.875 39.890625 15.1875 32.171875 \r\nz\r\n\" id=\"DejaVuSans-101\"/>\r\n      <path d=\"M 41.109375 46.296875 \r\nQ 39.59375 47.171875 37.8125 47.578125 \r\nQ 36.03125 48 33.890625 48 \r\nQ 26.265625 48 22.1875 43.046875 \r\nQ 18.109375 38.09375 18.109375 28.8125 \r\nL 18.109375 0 \r\nL 9.078125 0 \r\nL 9.078125 54.6875 \r\nL 18.109375 54.6875 \r\nL 18.109375 46.1875 \r\nQ 20.953125 51.171875 25.484375 53.578125 \r\nQ 30.03125 56 36.53125 56 \r\nQ 37.453125 56 38.578125 55.875 \r\nQ 39.703125 55.765625 41.0625 55.515625 \r\nz\r\n\" id=\"DejaVuSans-114\"/>\r\n      <path d=\"M 34.28125 27.484375 \r\nQ 23.390625 27.484375 19.1875 25 \r\nQ 14.984375 22.515625 14.984375 16.5 \r\nQ 14.984375 11.71875 18.140625 8.90625 \r\nQ 21.296875 6.109375 26.703125 6.109375 \r\nQ 34.1875 6.109375 38.703125 11.40625 \r\nQ 43.21875 16.703125 43.21875 25.484375 \r\nL 43.21875 27.484375 \r\nz\r\nM 52.203125 31.203125 \r\nL 52.203125 0 \r\nL 43.21875 0 \r\nL 43.21875 8.296875 \r\nQ 40.140625 3.328125 35.546875 0.953125 \r\nQ 30.953125 -1.421875 24.3125 -1.421875 \r\nQ 15.921875 -1.421875 10.953125 3.296875 \r\nQ 6 8.015625 6 15.921875 \r\nQ 6 25.140625 12.171875 29.828125 \r\nQ 18.359375 34.515625 30.609375 34.515625 \r\nL 43.21875 34.515625 \r\nL 43.21875 35.40625 \r\nQ 43.21875 41.609375 39.140625 45 \r\nQ 35.0625 48.390625 27.6875 48.390625 \r\nQ 23 48.390625 18.546875 47.265625 \r\nQ 14.109375 46.140625 10.015625 43.890625 \r\nL 10.015625 52.203125 \r\nQ 14.9375 54.109375 19.578125 55.046875 \r\nQ 24.21875 56 28.609375 56 \r\nQ 40.484375 56 46.34375 49.84375 \r\nQ 52.203125 43.703125 52.203125 31.203125 \r\nz\r\n\" id=\"DejaVuSans-97\"/>\r\n      <path d=\"M 54.890625 33.015625 \r\nL 54.890625 0 \r\nL 45.90625 0 \r\nL 45.90625 32.71875 \r\nQ 45.90625 40.484375 42.875 44.328125 \r\nQ 39.84375 48.1875 33.796875 48.1875 \r\nQ 26.515625 48.1875 22.3125 43.546875 \r\nQ 18.109375 38.921875 18.109375 30.90625 \r\nL 18.109375 0 \r\nL 9.078125 0 \r\nL 9.078125 54.6875 \r\nL 18.109375 54.6875 \r\nL 18.109375 46.1875 \r\nQ 21.34375 51.125 25.703125 53.5625 \r\nQ 30.078125 56 35.796875 56 \r\nQ 45.21875 56 50.046875 50.171875 \r\nQ 54.890625 44.34375 54.890625 33.015625 \r\nz\r\n\" id=\"DejaVuSans-110\"/>\r\n     </defs>\r\n     <g transform=\"translate(175.61875 268.128437)scale(0.1 -0.1)\">\r\n      <use xlink:href=\"#DejaVuSans-8470\"/>\r\n      <use x=\"104.003906\" xlink:href=\"#DejaVuSans-32\"/>\r\n      <use x=\"135.791016\" xlink:href=\"#DejaVuSans-111\"/>\r\n      <use x=\"196.972656\" xlink:href=\"#DejaVuSans-102\"/>\r\n      <use x=\"232.177734\" xlink:href=\"#DejaVuSans-32\"/>\r\n      <use x=\"263.964844\" xlink:href=\"#DejaVuSans-105\"/>\r\n      <use x=\"291.748047\" xlink:href=\"#DejaVuSans-116\"/>\r\n      <use x=\"330.957031\" xlink:href=\"#DejaVuSans-101\"/>\r\n      <use x=\"392.480469\" xlink:href=\"#DejaVuSans-114\"/>\r\n      <use x=\"433.59375\" xlink:href=\"#DejaVuSans-97\"/>\r\n      <use x=\"494.873047\" xlink:href=\"#DejaVuSans-116\"/>\r\n      <use x=\"534.082031\" xlink:href=\"#DejaVuSans-105\"/>\r\n      <use x=\"561.865234\" xlink:href=\"#DejaVuSans-111\"/>\r\n      <use x=\"623.046875\" xlink:href=\"#DejaVuSans-110\"/>\r\n     </g>\r\n    </g>\r\n   </g>\r\n   <g id=\"matplotlib.axis_2\">\r\n    <g id=\"ytick_1\">\r\n     <g id=\"line2d_6\">\r\n      <defs>\r\n       <path d=\"M 0 0 \r\nL -3.5 0 \r\n\" id=\"mb5225faa12\" style=\"stroke:#000000;stroke-width:0.8;\"/>\r\n      </defs>\r\n      <g>\r\n       <use style=\"stroke:#000000;stroke-width:0.8;\" x=\"42.539063\" xlink:href=\"#mb5225faa12\" y=\"206.410812\"/>\r\n      </g>\r\n     </g>\r\n     <g id=\"text_7\">\r\n      <!-- 0.5 -->\r\n      <defs>\r\n       <path d=\"M 10.6875 12.40625 \r\nL 21 12.40625 \r\nL 21 0 \r\nL 10.6875 0 \r\nz\r\n\" id=\"DejaVuSans-46\"/>\r\n      </defs>\r\n      <g transform=\"translate(19.635938 210.210031)scale(0.1 -0.1)\">\r\n       <use xlink:href=\"#DejaVuSans-48\"/>\r\n       <use x=\"63.623047\" xlink:href=\"#DejaVuSans-46\"/>\r\n       <use x=\"95.410156\" xlink:href=\"#DejaVuSans-53\"/>\r\n      </g>\r\n     </g>\r\n    </g>\r\n    <g id=\"ytick_2\">\r\n     <g id=\"line2d_7\">\r\n      <g>\r\n       <use style=\"stroke:#000000;stroke-width:0.8;\" x=\"42.539063\" xlink:href=\"#mb5225faa12\" y=\"163.245202\"/>\r\n      </g>\r\n     </g>\r\n     <g id=\"text_8\">\r\n      <!-- 1.0 -->\r\n      <g transform=\"translate(19.635938 167.04442)scale(0.1 -0.1)\">\r\n       <use xlink:href=\"#DejaVuSans-49\"/>\r\n       <use x=\"63.623047\" xlink:href=\"#DejaVuSans-46\"/>\r\n       <use x=\"95.410156\" xlink:href=\"#DejaVuSans-48\"/>\r\n      </g>\r\n     </g>\r\n    </g>\r\n    <g id=\"ytick_3\">\r\n     <g id=\"line2d_8\">\r\n      <g>\r\n       <use style=\"stroke:#000000;stroke-width:0.8;\" x=\"42.539063\" xlink:href=\"#mb5225faa12\" y=\"120.079592\"/>\r\n      </g>\r\n     </g>\r\n     <g id=\"text_9\">\r\n      <!-- 1.5 -->\r\n      <g transform=\"translate(19.635938 123.87881)scale(0.1 -0.1)\">\r\n       <use xlink:href=\"#DejaVuSans-49\"/>\r\n       <use x=\"63.623047\" xlink:href=\"#DejaVuSans-46\"/>\r\n       <use x=\"95.410156\" xlink:href=\"#DejaVuSans-53\"/>\r\n      </g>\r\n     </g>\r\n    </g>\r\n    <g id=\"ytick_4\">\r\n     <g id=\"line2d_9\">\r\n      <g>\r\n       <use style=\"stroke:#000000;stroke-width:0.8;\" x=\"42.539063\" xlink:href=\"#mb5225faa12\" y=\"76.913982\"/>\r\n      </g>\r\n     </g>\r\n     <g id=\"text_10\">\r\n      <!-- 2.0 -->\r\n      <g transform=\"translate(19.635938 80.7132)scale(0.1 -0.1)\">\r\n       <use xlink:href=\"#DejaVuSans-50\"/>\r\n       <use x=\"63.623047\" xlink:href=\"#DejaVuSans-46\"/>\r\n       <use x=\"95.410156\" xlink:href=\"#DejaVuSans-48\"/>\r\n      </g>\r\n     </g>\r\n    </g>\r\n    <g id=\"ytick_5\">\r\n     <g id=\"line2d_10\">\r\n      <g>\r\n       <use style=\"stroke:#000000;stroke-width:0.8;\" x=\"42.539063\" xlink:href=\"#mb5225faa12\" y=\"33.748371\"/>\r\n      </g>\r\n     </g>\r\n     <g id=\"text_11\">\r\n      <!-- 2.5 -->\r\n      <g transform=\"translate(19.635938 37.54759)scale(0.1 -0.1)\">\r\n       <use xlink:href=\"#DejaVuSans-50\"/>\r\n       <use x=\"63.623047\" xlink:href=\"#DejaVuSans-46\"/>\r\n       <use x=\"95.410156\" xlink:href=\"#DejaVuSans-53\"/>\r\n      </g>\r\n     </g>\r\n    </g>\r\n    <g id=\"text_12\">\r\n     <!-- J(θ) -->\r\n     <defs>\r\n      <path d=\"M 9.8125 72.90625 \r\nL 19.671875 72.90625 \r\nL 19.671875 5.078125 \r\nQ 19.671875 -8.109375 14.671875 -14.0625 \r\nQ 9.671875 -20.015625 -1.421875 -20.015625 \r\nL -5.171875 -20.015625 \r\nL -5.171875 -11.71875 \r\nL -2.09375 -11.71875 \r\nQ 4.4375 -11.71875 7.125 -8.046875 \r\nQ 9.8125 -4.390625 9.8125 5.078125 \r\nz\r\n\" id=\"DejaVuSans-74\"/>\r\n      <path d=\"M 31 75.875 \r\nQ 24.46875 64.65625 21.28125 53.65625 \r\nQ 18.109375 42.671875 18.109375 31.390625 \r\nQ 18.109375 20.125 21.3125 9.0625 \r\nQ 24.515625 -2 31 -13.1875 \r\nL 23.1875 -13.1875 \r\nQ 15.875 -1.703125 12.234375 9.375 \r\nQ 8.59375 20.453125 8.59375 31.390625 \r\nQ 8.59375 42.28125 12.203125 53.3125 \r\nQ 15.828125 64.359375 23.1875 75.875 \r\nz\r\n\" id=\"DejaVuSans-40\"/>\r\n      <path d=\"M 46.140625 34.671875 \r\nL 15.046875 34.671875 \r\nQ 15.765625 20.0625 19.140625 13.875 \r\nQ 23.34375 6.25 30.609375 6.25 \r\nQ 37.9375 6.25 42 13.921875 \r\nQ 45.5625 20.65625 46.140625 34.671875 \r\nz\r\nM 46 42.96875 \r\nQ 44.625 56.84375 42 61.71875 \r\nQ 37.796875 69.4375 30.609375 69.4375 \r\nQ 23.140625 69.4375 19.1875 61.8125 \r\nQ 16.0625 55.671875 15.140625 42.96875 \r\nz\r\nM 30.609375 76.765625 \r\nQ 42.328125 76.765625 49.03125 66.40625 \r\nQ 55.71875 56.109375 55.71875 37.84375 \r\nQ 55.71875 19.625 49.03125 9.28125 \r\nQ 42.328125 -1.125 30.609375 -1.125 \r\nQ 18.84375 -1.125 12.203125 9.28125 \r\nQ 5.515625 19.625 5.515625 37.84375 \r\nQ 5.515625 56.109375 12.203125 66.40625 \r\nQ 18.84375 76.765625 30.609375 76.765625 \r\nz\r\n\" id=\"DejaVuSans-952\"/>\r\n      <path d=\"M 8.015625 75.875 \r\nL 15.828125 75.875 \r\nQ 23.140625 64.359375 26.78125 53.3125 \r\nQ 30.421875 42.28125 30.421875 31.390625 \r\nQ 30.421875 20.453125 26.78125 9.375 \r\nQ 23.140625 -1.703125 15.828125 -13.1875 \r\nL 8.015625 -13.1875 \r\nQ 14.5 -2 17.703125 9.0625 \r\nQ 20.90625 20.125 20.90625 31.390625 \r\nQ 20.90625 42.671875 17.703125 53.65625 \r\nQ 14.5 64.65625 8.015625 75.875 \r\nz\r\n\" id=\"DejaVuSans-41\"/>\r\n     </defs>\r\n     <g transform=\"translate(7.2 129.052187)scale(0.1 -0.1)\">\r\n      <use xlink:href=\"#DejaVuSans-74\"/>\r\n      <use x=\"29.492188\" xlink:href=\"#DejaVuSans-40\"/>\r\n      <use x=\"68.505859\" xlink:href=\"#DejaVuSans-952\"/>\r\n      <use x=\"129.6875\" xlink:href=\"#DejaVuSans-41\"/>\r\n     </g>\r\n    </g>\r\n   </g>\r\n   <g id=\"line2d_11\">\r\n    <path clip-path=\"url(#p9c8deeda5f)\" d=\"M 57.757244 32.295511 \r\nL 58.194758 49.382505 \r\nL 58.632272 59.214556 \r\nL 59.215623 67.109193 \r\nL 59.798975 71.851583 \r\nL 60.528164 75.672459 \r\nL 61.257353 78.294719 \r\nL 61.986543 80.203936 \r\nL 62.86157 81.85943 \r\nL 63.736597 83.020991 \r\nL 64.611624 83.832833 \r\nL 65.632489 84.479671 \r\nL 66.94503 85.018238 \r\nL 68.695085 85.469799 \r\nL 72.341031 86.109326 \r\nL 75.257789 86.728771 \r\nL 76.862005 87.273926 \r\nL 78.174546 87.939461 \r\nL 79.341249 88.777775 \r\nL 80.507952 89.906585 \r\nL 81.674655 91.354497 \r\nL 82.987196 93.372908 \r\nL 84.445575 96.084723 \r\nL 86.049791 99.577976 \r\nL 88.091521 104.623727 \r\nL 91.445792 113.649686 \r\nL 94.800064 122.44802 \r\nL 97.133469 127.957251 \r\nL 99.321037 132.569651 \r\nL 101.508606 136.676303 \r\nL 103.842011 140.582572 \r\nL 106.467093 144.539418 \r\nL 110.550554 150.237697 \r\nL 113.321473 153.809929 \r\nL 116.384068 157.349395 \r\nL 119.884177 161.049558 \r\nL 123.384286 164.429414 \r\nL 127.030233 167.645274 \r\nL 130.967855 170.81991 \r\nL 135.197154 173.946682 \r\nL 140.009803 177.222237 \r\nL 145.405805 180.617412 \r\nL 151.385157 184.114004 \r\nL 157.947862 187.6938 \r\nL 164.948079 191.257842 \r\nL 172.094135 194.648797 \r\nL 179.386029 197.864153 \r\nL 186.82376 200.898143 \r\nL 194.261491 203.691438 \r\nL 201.845061 206.299207 \r\nL 209.574468 208.719641 \r\nL 217.595551 210.996912 \r\nL 226.054147 213.163513 \r\nL 234.950257 215.20892 \r\nL 244.429719 217.155263 \r\nL 254.492532 218.990835 \r\nL 265.284534 220.731062 \r\nL 276.951564 222.384988 \r\nL 289.639459 223.957067 \r\nL 303.639894 225.463413 \r\nL 319.098709 226.897935 \r\nL 336.307578 228.266302 \r\nL 355.558176 229.569591 \r\nL 362.120881 229.968239 \r\nL 362.120881 229.968239 \r\n\" style=\"fill:none;stroke:#1f77b4;stroke-linecap:square;stroke-width:1.5;\"/>\r\n   </g>\r\n   <g id=\"patch_3\">\r\n    <path d=\"M 42.539063 239.851875 \r\nL 42.539063 22.411875 \r\n\" style=\"fill:none;stroke:#000000;stroke-linecap:square;stroke-linejoin:miter;stroke-width:0.8;\"/>\r\n   </g>\r\n   <g id=\"patch_4\">\r\n    <path d=\"M 377.339063 239.851875 \r\nL 377.339063 22.411875 \r\n\" style=\"fill:none;stroke:#000000;stroke-linecap:square;stroke-linejoin:miter;stroke-width:0.8;\"/>\r\n   </g>\r\n   <g id=\"patch_5\">\r\n    <path d=\"M 42.539063 239.851875 \r\nL 377.339063 239.851875 \r\n\" style=\"fill:none;stroke:#000000;stroke-linecap:square;stroke-linejoin:miter;stroke-width:0.8;\"/>\r\n   </g>\r\n   <g id=\"patch_6\">\r\n    <path d=\"M 42.539063 22.411875 \r\nL 377.339063 22.411875 \r\n\" style=\"fill:none;stroke:#000000;stroke-linecap:square;stroke-linejoin:miter;stroke-width:0.8;\"/>\r\n   </g>\r\n   <g id=\"text_13\">\r\n    <!-- J(θ) history, α = 0.1,  λ = 0 -->\r\n    <defs>\r\n     <path d=\"M 54.890625 33.015625 \r\nL 54.890625 0 \r\nL 45.90625 0 \r\nL 45.90625 32.71875 \r\nQ 45.90625 40.484375 42.875 44.328125 \r\nQ 39.84375 48.1875 33.796875 48.1875 \r\nQ 26.515625 48.1875 22.3125 43.546875 \r\nQ 18.109375 38.921875 18.109375 30.90625 \r\nL 18.109375 0 \r\nL 9.078125 0 \r\nL 9.078125 75.984375 \r\nL 18.109375 75.984375 \r\nL 18.109375 46.1875 \r\nQ 21.34375 51.125 25.703125 53.5625 \r\nQ 30.078125 56 35.796875 56 \r\nQ 45.21875 56 50.046875 50.171875 \r\nQ 54.890625 44.34375 54.890625 33.015625 \r\nz\r\n\" id=\"DejaVuSans-104\"/>\r\n     <path d=\"M 44.28125 53.078125 \r\nL 44.28125 44.578125 \r\nQ 40.484375 46.53125 36.375 47.5 \r\nQ 32.28125 48.484375 27.875 48.484375 \r\nQ 21.1875 48.484375 17.84375 46.4375 \r\nQ 14.5 44.390625 14.5 40.28125 \r\nQ 14.5 37.15625 16.890625 35.375 \r\nQ 19.28125 33.59375 26.515625 31.984375 \r\nL 29.59375 31.296875 \r\nQ 39.15625 29.25 43.1875 25.515625 \r\nQ 47.21875 21.78125 47.21875 15.09375 \r\nQ 47.21875 7.46875 41.1875 3.015625 \r\nQ 35.15625 -1.421875 24.609375 -1.421875 \r\nQ 20.21875 -1.421875 15.453125 -0.5625 \r\nQ 10.6875 0.296875 5.421875 2 \r\nL 5.421875 11.28125 \r\nQ 10.40625 8.6875 15.234375 7.390625 \r\nQ 20.0625 6.109375 24.8125 6.109375 \r\nQ 31.15625 6.109375 34.5625 8.28125 \r\nQ 37.984375 10.453125 37.984375 14.40625 \r\nQ 37.984375 18.0625 35.515625 20.015625 \r\nQ 33.0625 21.96875 24.703125 23.78125 \r\nL 21.578125 24.515625 \r\nQ 13.234375 26.265625 9.515625 29.90625 \r\nQ 5.8125 33.546875 5.8125 39.890625 \r\nQ 5.8125 47.609375 11.28125 51.796875 \r\nQ 16.75 56 26.8125 56 \r\nQ 31.78125 56 36.171875 55.265625 \r\nQ 40.578125 54.546875 44.28125 53.078125 \r\nz\r\n\" id=\"DejaVuSans-115\"/>\r\n     <path d=\"M 32.171875 -5.078125 \r\nQ 28.375 -14.84375 24.75 -17.8125 \r\nQ 21.140625 -20.796875 15.09375 -20.796875 \r\nL 7.90625 -20.796875 \r\nL 7.90625 -13.28125 \r\nL 13.1875 -13.28125 \r\nQ 16.890625 -13.28125 18.9375 -11.515625 \r\nQ 21 -9.765625 23.484375 -3.21875 \r\nL 25.09375 0.875 \r\nL 2.984375 54.6875 \r\nL 12.5 54.6875 \r\nL 29.59375 11.921875 \r\nL 46.6875 54.6875 \r\nL 56.203125 54.6875 \r\nz\r\n\" id=\"DejaVuSans-121\"/>\r\n     <path d=\"M 11.71875 12.40625 \r\nL 22.015625 12.40625 \r\nL 22.015625 4 \r\nL 14.015625 -11.625 \r\nL 7.71875 -11.625 \r\nL 11.71875 4 \r\nz\r\n\" id=\"DejaVuSans-44\"/>\r\n     <path d=\"M 41.3125 25.4375 \r\nL 39.15625 36.71875 \r\nQ 36.96875 48.296875 28.265625 48.296875 \r\nQ 21.734375 48.296875 18.75 42.921875 \r\nQ 14.984375 36.1875 14.984375 27.296875 \r\nQ 14.984375 16.546875 18.65625 11.421875 \r\nQ 22.359375 6.203125 28.265625 6.203125 \r\nQ 34.8125 6.203125 38.328125 16.609375 \r\nz\r\nM 46.34375 40.375 \r\nL 51.171875 54.6875 \r\nL 59.1875 54.6875 \r\nL 49.171875 25.046875 \r\nL 51.125 14.359375 \r\nQ 51.5625 11.96875 53.265625 9.96875 \r\nQ 55.28125 7.625 56.84375 7.625 \r\nL 61.140625 7.625 \r\nL 61.140625 0 \r\nL 55.765625 0 \r\nQ 51.171875 0 47.078125 4.109375 \r\nQ 45.0625 6.15625 44.234375 10.453125 \r\nQ 42 5.03125 37.40625 0.78125 \r\nQ 35.25 -1.21875 28.265625 -1.21875 \r\nQ 16.796875 -1.21875 11.234375 6.203125 \r\nQ 5.515625 13.875 5.515625 27.296875 \r\nQ 5.515625 41.65625 11.71875 48.390625 \r\nQ 18.609375 55.90625 28.265625 55.90625 \r\nQ 43.453125 55.90625 46.34375 40.375 \r\nz\r\n\" id=\"DejaVuSans-945\"/>\r\n     <path d=\"M 10.59375 45.40625 \r\nL 73.1875 45.40625 \r\nL 73.1875 37.203125 \r\nL 10.59375 37.203125 \r\nz\r\nM 10.59375 25.484375 \r\nL 73.1875 25.484375 \r\nL 73.1875 17.1875 \r\nL 10.59375 17.1875 \r\nz\r\n\" id=\"DejaVuSans-61\"/>\r\n     <path d=\"M 30.953125 67.4375 \r\nL 56.203125 0 \r\nL 46.6875 0 \r\nL 31.34375 40.4375 \r\nL 12.5 0 \r\nL 2.984375 0 \r\nL 26.953125 52.4375 \r\nL 23.34375 62.109375 \r\nQ 21.046875 68.265625 15.828125 68.265625 \r\nL 11.140625 68.265625 \r\nL 11.140625 75.984375 \r\nL 16.84375 75.875 \r\nQ 27.875 75.734375 30.953125 67.4375 \r\nz\r\n\" id=\"DejaVuSans-955\"/>\r\n    </defs>\r\n    <g transform=\"translate(129.189375 16.411875)scale(0.12 -0.12)\">\r\n     <use xlink:href=\"#DejaVuSans-74\"/>\r\n     <use x=\"29.492188\" xlink:href=\"#DejaVuSans-40\"/>\r\n     <use x=\"68.505859\" xlink:href=\"#DejaVuSans-952\"/>\r\n     <use x=\"129.6875\" xlink:href=\"#DejaVuSans-41\"/>\r\n     <use x=\"168.701172\" xlink:href=\"#DejaVuSans-32\"/>\r\n     <use x=\"200.488281\" xlink:href=\"#DejaVuSans-104\"/>\r\n     <use x=\"263.867188\" xlink:href=\"#DejaVuSans-105\"/>\r\n     <use x=\"291.650391\" xlink:href=\"#DejaVuSans-115\"/>\r\n     <use x=\"343.75\" xlink:href=\"#DejaVuSans-116\"/>\r\n     <use x=\"382.958984\" xlink:href=\"#DejaVuSans-111\"/>\r\n     <use x=\"444.140625\" xlink:href=\"#DejaVuSans-114\"/>\r\n     <use x=\"485.253906\" xlink:href=\"#DejaVuSans-121\"/>\r\n     <use x=\"544.433594\" xlink:href=\"#DejaVuSans-44\"/>\r\n     <use x=\"576.220703\" xlink:href=\"#DejaVuSans-32\"/>\r\n     <use x=\"608.007812\" xlink:href=\"#DejaVuSans-945\"/>\r\n     <use x=\"673.925781\" xlink:href=\"#DejaVuSans-32\"/>\r\n     <use x=\"705.712891\" xlink:href=\"#DejaVuSans-61\"/>\r\n     <use x=\"789.501953\" xlink:href=\"#DejaVuSans-32\"/>\r\n     <use x=\"821.289062\" xlink:href=\"#DejaVuSans-48\"/>\r\n     <use x=\"884.912109\" xlink:href=\"#DejaVuSans-46\"/>\r\n     <use x=\"916.699219\" xlink:href=\"#DejaVuSans-49\"/>\r\n     <use x=\"980.322266\" xlink:href=\"#DejaVuSans-44\"/>\r\n     <use x=\"1012.109375\" xlink:href=\"#DejaVuSans-32\"/>\r\n     <use x=\"1043.896484\" xlink:href=\"#DejaVuSans-32\"/>\r\n     <use x=\"1075.683594\" xlink:href=\"#DejaVuSans-955\"/>\r\n     <use x=\"1134.863281\" xlink:href=\"#DejaVuSans-32\"/>\r\n     <use x=\"1166.650391\" xlink:href=\"#DejaVuSans-61\"/>\r\n     <use x=\"1250.439453\" xlink:href=\"#DejaVuSans-32\"/>\r\n     <use x=\"1282.226562\" xlink:href=\"#DejaVuSans-48\"/>\r\n    </g>\r\n   </g>\r\n  </g>\r\n </g>\r\n <defs>\r\n  <clipPath id=\"p9c8deeda5f\">\r\n   <rect height=\"217.44\" width=\"334.8\" x=\"42.539063\" y=\"22.411875\"/>\r\n  </clipPath>\r\n </defs>\r\n</svg>\r\n",
      "image/png": "[encoded data removed]"
     },
     "metadata": {
      "needs_background": "light"
     }
    }
   ],
   "source": [
    "plt.plot(J)\n",
    "plt.title(f'J(θ) history, α = {alpha},  λ = {lmb}')\n",
    "plt.xlabel('№ of iteration')\n",
    "plt.ylabel('J(θ)', rotation = 0)\n",
    "plt.show()"
   ]
  },
  {
   "cell_type": "markdown",
   "metadata": {},
   "source": [
    "Plot cost function J values depending on number of iteration."
   ]
  },
  {
   "cell_type": "code",
   "execution_count": 11,
   "metadata": {
    "tags": []
   },
   "outputs": [
    {
     "output_type": "stream",
     "name": "stdout",
     "text": "neural network output \t\t\t correct output \t equals?\n[0.78809872 0.11122503 0.02215454] \t [1. 0. 0.] \t\t True\n[0.02211853 0.00148984 0.98134434] \t [0. 0. 1.] \t\t True\n[0.23341145 0.79506108 0.00633966] \t [1. 0. 0.] \t\t False\n[0.82845703 0.08502002 0.02314395] \t [1. 0. 0.] \t\t True\n[0.94586321 0.01510882 0.08673889] \t [1. 0. 0.] \t\t True\n[0.94044564 0.018423   0.06474729] \t [1. 0. 0.] \t\t True\n[0.36494925 0.62171875 0.00649112] \t [0. 1. 0.] \t\t True\n[0.9048796  0.03513221 0.02879651] \t [1. 0. 0.] \t\t True\n[0.92505552 0.0254534  0.04335062] \t [1. 0. 0.] \t\t True\n[0.08171454 0.95307888 0.00384718] \t [0. 1. 0.] \t\t True\n"
    }
   ],
   "source": [
    "demo_index = np.random.choice(np.arange(len(Y)), 10, replace = False)\n",
    "np.set_printoptions(suppress=True)\n",
    "print(\"neural network output \\t\\t\\t correct output \\t equals?\")\n",
    "for i in demo_index:\n",
    "    print(f\"{n.h(X[i])} \\t {Y[i]} \\t\\t {np.argmax(n.h(X[i])) == np.argmax(Y[i])}\")\n"
   ]
  },
  {
   "cell_type": "markdown",
   "metadata": {},
   "source": [
    "Compare some neural network outputs with correct ones."
   ]
  }
 ]
}